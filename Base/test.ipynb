{
 "cells": [
  {
   "cell_type": "code",
   "execution_count": 1,
   "metadata": {},
   "outputs": [],
   "source": [
    "from os.path import join\n",
    "\n",
    "import numpy as np\n",
    "import pandas as pd\n",
    "import matplotlib.pyplot as plt\n",
    "\n",
    "df = pd.read_csv(join(\"data_jobs.csv\"))\n",
    "#\n",
    "# print(df[[\"job_title_short\",\"job_location\"]].iloc[50:90,0:3])\n",
    "# print(df[(df.job_title_short  == \"Data Analyst\") & (df.salary_year_avg> 100000)])\n",
    "#\n",
    "# print(df[(df.job_title_short  == \"Data Analyst\") & (df.salary_year_avg.notna())])\n",
    "df[\"job_posted_date\"]= pd.to_datetime(df.job_posted_date)\n",
    "df[\"job_posted_month\"] = df[\"job_posted_date\"].dt.month\n",
    "# df.sort_values(\"job_posted_month\",inplace=True)\n",
    "# df.drop(labels= \"salary_hour_avg\",axis=1,inplace=True)\n",
    "# df.dropna(subset=\"salary_year_avg\",inplace=True)\n",
    "# min_idex = df[\"salary_year_avg\"].idxmin()\n",
    "#\n",
    "# print(df.iloc[min_idex])\n",
    "\n",
    "#print(df[\"job_title_short\"].unique())\n",
    "#print(df[\"job_country\"].value_counts().head(10))\n",
    "#print(df.groupby(\"job_title_short\")[[\"salary_year_avg\",\"salary_hour_avg\"]].agg([\"min\",\"max\"]))\n",
    "\n",
    "# us_df = df[df.job_country  == \"United States\"]\n",
    "# us_df = us_df[us_df.salary_year_avg.notna()]\n",
    "#\n",
    "# my_df = df[df.job_country  == \"Thailand\"]\n",
    "#\n",
    "# my_df = my_df[my_df.salary_year_avg.notna()]\n",
    "#\n",
    "# print(my_df.groupby([\"job_title_short\",\"company_name\",\"job_work_from_home\"])[\"salary_year_avg\"].agg([\"median\",\"min\",\"max\"]).sort_values(\"median\",ascending=False))\n",
    "\n",
    "\n"
   ]
  }
 ],
 "metadata": {
  "kernelspec": {
   "display_name": "Python 3",
   "language": "python",
   "name": "python3"
  },
  "language_info": {
   "codemirror_mode": {
    "name": "ipython",
    "version": 3
   },
   "file_extension": ".py",
   "mimetype": "text/x-python",
   "name": "python",
   "nbconvert_exporter": "python",
   "pygments_lexer": "ipython3",
   "version": "3.13.0"
  }
 },
 "nbformat": 4,
 "nbformat_minor": 2
}
